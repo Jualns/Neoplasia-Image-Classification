{
 "cells": [
  {
   "cell_type": "markdown",
   "metadata": {},
   "source": [
    "# Conjunto de Dados\n",
    "***"
   ]
  },
  {
   "cell_type": "markdown",
   "metadata": {},
   "source": [
    "<img src=\"3C.jpg_files/BOAS/3C_s0c0x6232-1600y9192-1200m91.jpg\" alt=\"DOBRA\" style=\"width: 480px;\"/>"
   ]
  },
  {
   "cell_type": "code",
   "execution_count": 1,
   "metadata": {},
   "outputs": [],
   "source": [
    "import pandas as pd\n",
    "import numpy as np"
   ]
  },
  {
   "cell_type": "code",
   "execution_count": 2,
   "metadata": {},
   "outputs": [],
   "source": [
    "df = pd.read_csv('imagens.csv')"
   ]
  },
  {
   "cell_type": "code",
   "execution_count": 3,
   "metadata": {},
   "outputs": [
    {
     "data": {
      "text/plain": [
       "0    459\n",
       "1    328\n",
       "Name: Boa, dtype: int64"
      ]
     },
     "execution_count": 3,
     "metadata": {},
     "output_type": "execute_result"
    }
   ],
   "source": [
    "df.Boa.value_counts()  #787 imagens, por enquanto"
   ]
  },
  {
   "cell_type": "code",
   "execution_count": 4,
   "metadata": {
    "scrolled": false
   },
   "outputs": [
    {
     "data": {
      "text/html": [
       "<div>\n",
       "<style scoped>\n",
       "    .dataframe tbody tr th:only-of-type {\n",
       "        vertical-align: middle;\n",
       "    }\n",
       "\n",
       "    .dataframe tbody tr th {\n",
       "        vertical-align: top;\n",
       "    }\n",
       "\n",
       "    .dataframe thead th {\n",
       "        text-align: right;\n",
       "    }\n",
       "</style>\n",
       "<table border=\"1\" class=\"dataframe\">\n",
       "  <thead>\n",
       "    <tr style=\"text-align: right;\">\n",
       "      <th></th>\n",
       "      <th>Caminho</th>\n",
       "      <th>Nome</th>\n",
       "      <th>Boa</th>\n",
       "    </tr>\n",
       "  </thead>\n",
       "  <tbody>\n",
       "    <tr>\n",
       "      <th>0</th>\n",
       "      <td>1A.jpg_files/BOAS/</td>\n",
       "      <td>1A_s0c0x10661-1600y12949-1200m126.jpg</td>\n",
       "      <td>1</td>\n",
       "    </tr>\n",
       "    <tr>\n",
       "      <th>1</th>\n",
       "      <td>1A.jpg_files/BOAS/</td>\n",
       "      <td>1A_s0c0x10662-1600y9720-1200m95.jpg</td>\n",
       "      <td>1</td>\n",
       "    </tr>\n",
       "    <tr>\n",
       "      <th>2</th>\n",
       "      <td>1A.jpg_files/BOAS/</td>\n",
       "      <td>1A_s0c0x10663-1600y11874-1200m117.jpg</td>\n",
       "      <td>1</td>\n",
       "    </tr>\n",
       "    <tr>\n",
       "      <th>3</th>\n",
       "      <td>1A.jpg_files/BOAS/</td>\n",
       "      <td>1A_s0c0x10663-1600y5380-1200m47.jpg</td>\n",
       "      <td>1</td>\n",
       "    </tr>\n",
       "    <tr>\n",
       "      <th>4</th>\n",
       "      <td>1A.jpg_files/BOAS/</td>\n",
       "      <td>1A_s0c0x10664-1600y7547-1200m71.jpg</td>\n",
       "      <td>1</td>\n",
       "    </tr>\n",
       "    <tr>\n",
       "      <th>...</th>\n",
       "      <td>...</td>\n",
       "      <td>...</td>\n",
       "      <td>...</td>\n",
       "    </tr>\n",
       "    <tr>\n",
       "      <th>782</th>\n",
       "      <td>4D.jpg_files/RUINS/</td>\n",
       "      <td>4D_s0c0x8610-1600y2309-1200m27.jpg</td>\n",
       "      <td>0</td>\n",
       "    </tr>\n",
       "    <tr>\n",
       "      <th>783</th>\n",
       "      <td>4D.jpg_files/RUINS/</td>\n",
       "      <td>4D_s0c0x8615-1600y154-1200m9.jpg</td>\n",
       "      <td>0</td>\n",
       "    </tr>\n",
       "    <tr>\n",
       "      <th>784</th>\n",
       "      <td>4D.jpg_files/RUINS/</td>\n",
       "      <td>4D_s0c0x8619-1600y1233-1200m17.jpg</td>\n",
       "      <td>0</td>\n",
       "    </tr>\n",
       "    <tr>\n",
       "      <th>785</th>\n",
       "      <td>4D.jpg_files/RUINS/</td>\n",
       "      <td>4D_s0c0x8629-1600y0-275m3.jpg</td>\n",
       "      <td>0</td>\n",
       "    </tr>\n",
       "    <tr>\n",
       "      <th>786</th>\n",
       "      <td>4D.jpg_files/RUINS/</td>\n",
       "      <td>4D_s0c0x8634-1600y15237-832m155.jpg</td>\n",
       "      <td>0</td>\n",
       "    </tr>\n",
       "  </tbody>\n",
       "</table>\n",
       "<p>787 rows × 3 columns</p>\n",
       "</div>"
      ],
      "text/plain": [
       "                 Caminho                                   Nome  Boa\n",
       "0     1A.jpg_files/BOAS/  1A_s0c0x10661-1600y12949-1200m126.jpg    1\n",
       "1     1A.jpg_files/BOAS/    1A_s0c0x10662-1600y9720-1200m95.jpg    1\n",
       "2     1A.jpg_files/BOAS/  1A_s0c0x10663-1600y11874-1200m117.jpg    1\n",
       "3     1A.jpg_files/BOAS/    1A_s0c0x10663-1600y5380-1200m47.jpg    1\n",
       "4     1A.jpg_files/BOAS/    1A_s0c0x10664-1600y7547-1200m71.jpg    1\n",
       "..                   ...                                    ...  ...\n",
       "782  4D.jpg_files/RUINS/     4D_s0c0x8610-1600y2309-1200m27.jpg    0\n",
       "783  4D.jpg_files/RUINS/       4D_s0c0x8615-1600y154-1200m9.jpg    0\n",
       "784  4D.jpg_files/RUINS/     4D_s0c0x8619-1600y1233-1200m17.jpg    0\n",
       "785  4D.jpg_files/RUINS/          4D_s0c0x8629-1600y0-275m3.jpg    0\n",
       "786  4D.jpg_files/RUINS/    4D_s0c0x8634-1600y15237-832m155.jpg    0\n",
       "\n",
       "[787 rows x 3 columns]"
      ]
     },
     "execution_count": 4,
     "metadata": {},
     "output_type": "execute_result"
    }
   ],
   "source": [
    "df"
   ]
  },
  {
   "cell_type": "markdown",
   "metadata": {},
   "source": [
    "# Objetivo do Trabalho\n",
    "***"
   ]
  },
  {
   "cell_type": "markdown",
   "metadata": {},
   "source": [
    "<img src=\"ARTEFATO.JPG\" alt=\"ARTEFATO\" style=\"width: 480px;\"/>"
   ]
  },
  {
   "cell_type": "markdown",
   "metadata": {},
   "source": [
    "<img src=\"DOBRA.JPG\" alt=\"DOBRA\" style=\"width: 1000px;\"/>"
   ]
  },
  {
   "cell_type": "markdown",
   "metadata": {},
   "source": [
    "<img src=\"VASO SANGUÍNEO (COM HEMACIAS DENTRO).JPG\" alt=\"VASOS\" style=\"width: 1000px;\"/>"
   ]
  },
  {
   "cell_type": "markdown",
   "metadata": {},
   "source": [
    "## Exemplos de imagens RUINS\n",
    "***"
   ]
  },
  {
   "cell_type": "markdown",
   "metadata": {},
   "source": [
    "<img src=\"3A.jpg_files/RUINS/3A_s0c0x2499-1600y5131-1200m44.jpg\" alt=\"DOBRA\" style=\"width: 480px;\"/>"
   ]
  },
  {
   "cell_type": "markdown",
   "metadata": {},
   "source": [
    "<img src=\"4D.jpg_files/RUINS/4D_s0c0x8610-1600y2309-1200m27.jpg\t\" alt=\"DOBRA\" style=\"width: 480px;\"/>"
   ]
  },
  {
   "cell_type": "markdown",
   "metadata": {},
   "source": [
    "## Exemplos de imagens BOAS\n",
    "***"
   ]
  },
  {
   "cell_type": "markdown",
   "metadata": {},
   "source": [
    "<img src=\"3B.jpg_files/BOAS/3B_s0c0x3009-1600y11513-1200m110.jpg\" alt=\"DOBRA\" style=\"width: 480px;\"/>"
   ]
  },
  {
   "cell_type": "markdown",
   "metadata": {},
   "source": [
    "<img src=\"4D.jpg_files/BOAS/4D_s0c0x8609-1600y7693-1200m85.jpg\" alt=\"DOBRA\" style=\"width: 480px;\"/>"
   ]
  },
  {
   "cell_type": "markdown",
   "metadata": {},
   "source": [
    "[Análise Inicial](https://github.com/leorlik/projeto_CiDAMO/blob/master/Histogramas%20%26%20Thresholds.ipynb)\n",
    "[](https://www.codementor.io/@innat_2k14/image-data-analysis-using-numpy-opencv-part-1-kfadbafx6)"
   ]
  }
 ],
 "metadata": {
  "kernelspec": {
   "display_name": "Python 3",
   "language": "python",
   "name": "python3"
  },
  "language_info": {
   "codemirror_mode": {
    "name": "ipython",
    "version": 3
   },
   "file_extension": ".py",
   "mimetype": "text/x-python",
   "name": "python",
   "nbconvert_exporter": "python",
   "pygments_lexer": "ipython3",
   "version": "3.10.12"
  }
 },
 "nbformat": 4,
 "nbformat_minor": 4
}
