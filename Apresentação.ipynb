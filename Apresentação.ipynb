{
  "nbformat": 4,
  "nbformat_minor": 0,
  "metadata": {
    "colab": {
      "provenance": [],
      "gpuType": "T4",
      "authorship_tag": "ABX9TyNLDID4NbqkligfNae/VovA",
      "include_colab_link": true
    },
    "kernelspec": {
      "name": "python3",
      "display_name": "Python 3"
    },
    "language_info": {
      "name": "python"
    },
    "accelerator": "GPU"
  },
  "cells": [
    {
      "cell_type": "markdown",
      "metadata": {
        "id": "view-in-github",
        "colab_type": "text"
      },
      "source": [
        "<a href=\"https://colab.research.google.com/github/Jualns/Neoplasia-Image-Classification/blob/main/Apresenta%C3%A7%C3%A3o.ipynb\" target=\"_parent\"><img src=\"https://colab.research.google.com/assets/colab-badge.svg\" alt=\"Open In Colab\"/></a>"
      ]
    },
    {
      "cell_type": "markdown",
      "source": [
        "# Análise dos Dados\n",
        "***"
      ],
      "metadata": {
        "id": "IAMovfAROyBX"
      }
    },
    {
      "cell_type": "markdown",
      "source": [
        "**Dados**: The images utilized in this project were obtained through the scanning of histological slide samples using a CZI format scanner, subsequently converted into JPG format. The dataset was generously provided by the Experimental Pathology Laboratory at the School of Medicine, PUC-PR.\n",
        "\n",
        "**Objetivo da Análise**: The primary objective is to categorize images as either \"good\" or \"bad,\" aiding in the identification of suitable images for the subsequent cancer stage analysis."
      ],
      "metadata": {
        "id": "vmVajza1O6TK"
      }
    },
    {
      "cell_type": "code",
      "execution_count": null,
      "metadata": {
        "id": "yqIlO_NoOIGv"
      },
      "outputs": [],
      "source": [
        "!pip install opencv-python"
      ]
    }
  ]
}